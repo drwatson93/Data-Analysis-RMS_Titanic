{
  "nbformat": 4,
  "nbformat_minor": 0,
  "metadata": {
    "colab": {
      "name": "Assigment_3_titanic.ipynb",
      "provenance": [],
      "collapsed_sections": [],
      "mount_file_id": "1FD_hViKcaokfIzkDpyYu8N75NdpWBmSN",
      "authorship_tag": "ABX9TyNJikLoBUDjnSk4fkt2PpM/",
      "include_colab_link": true
    },
    "kernelspec": {
      "name": "python3",
      "display_name": "Python 3"
    }
  },
  "cells": [
    {
      "cell_type": "markdown",
      "metadata": {
        "id": "view-in-github",
        "colab_type": "text"
      },
      "source": [
        "<a href=\"https://colab.research.google.com/github/drwatson93/Data_science/blob/master/Data_Analysis_RMS_Titanic.ipynb\" target=\"_parent\"><img src=\"https://colab.research.google.com/assets/colab-badge.svg\" alt=\"Open In Colab\"/></a>"
      ]
    },
    {
      "cell_type": "markdown",
      "metadata": {
        "id": "ncGMYuaVBuLw"
      },
      "source": [
        "#This assignment is a good exercise to practice many of the concepts we covered in the “Pandas”sections.  \r\n",
        "* 1-Load “titanic_data.csv”file - DONE\r\n",
        "*2-Explore data to understandthem and to find missing data - DONE\r\n",
        "*3-Add a new column called “FamilySize”that is equal to (“SibSp”–“Parch”) - DONE\r\n",
        "*4-Remove unwanted columns ('Cabin','Name','Ticket', ‘SibSp’, ‘Parch’)\r\n",
        "*5-For missing ages replace them with themean ofages for their own gender (Sex) and cabinclass (Pclass)\r\n",
        "*6-For missing “Embarked”find your strategy (do someanalysis and decide what value you put there)\r\n",
        "*7-Map “Embarked”and “Pclass”to more descriptive values:a.Embarked -> {'S':'Southampton','C':'Cherbourg','Q':'Queenstown'}b.Pclass -> {1:'Upper Class',2:'Middle Class',3:'Lower Class'}\r\n",
        "*8-Create a column named “AgeGroup”that groups thepassengers in the following groups: ['0-9','10-19','20-29','30-39','40-49','50-59','60-69','70-79']. Tip: you can use “pandas’cut”function.\r\n",
        "*9-Show thenumber of survivorsandnon-survivorsusing “groupby”\r\n",
        "*10-Create a crosstab table to show survivors and non-survivorsfor eachgender. Tip:use “pandas’crosstab”function\r\n",
        "*11-Show the survivedproportion (mean) by gender (using groupby)\r\n",
        "*12-Plot the resultslike below:\r\n",
        "*13-Repeat the steps 10-12 for cabin class (Pclass)\r\n",
        "*14-Repeat the steps 10-12 for age group (AgeGroup)\r\n",
        "*15-Plot a “boxplot”of age versus gender\r\n"
      ]
    },
    {
      "cell_type": "code",
      "metadata": {
        "id": "8_icdjIzBUqy"
      },
      "source": [
        "# Libraries to import\r\n",
        "import numpy as np\r\n",
        "import pandas as pd\r\n",
        "import matplotlib.pyplot as plt\r\n",
        "import seaborn as sns\r\n",
        "sns.set(style=\"whitegrid\")"
      ],
      "execution_count": 155,
      "outputs": []
    },
    {
      "cell_type": "code",
      "metadata": {
        "id": "c6ItuU_KCf_E"
      },
      "source": [
        "# Load “titanic_data.csv”file\r\n",
        "# loading data from google drive storage.\r\n",
        "titanic_df = pd.read_csv('/content/drive/MyDrive/general/Assignment 3/titanic_data.csv')\r\n",
        "\r\n",
        "# Load \"titanic_data.csv\" file\r\n",
        "# Need to finish - Loading data from slack external link.\r\n",
        "#titanic_df = pd.read_csv('https://slack-files.com/TTQ6X9H24-F01M0DZAMEW-1afb6f2ac4')\r\n"
      ],
      "execution_count": 156,
      "outputs": []
    },
    {
      "cell_type": "code",
      "metadata": {
        "colab": {
          "base_uri": "https://localhost:8080/",
          "height": 347
        },
        "id": "tGrstMccC5Cl",
        "outputId": "4a36fe33-8dc6-47e5-b22e-bb2507b82339"
      },
      "source": [
        "#1- Explore the first 10 rows\r\n",
        "titanic_df.head(10)"
      ],
      "execution_count": 157,
      "outputs": [
        {
          "output_type": "execute_result",
          "data": {
            "text/html": [
              "<div>\n",
              "<style scoped>\n",
              "    .dataframe tbody tr th:only-of-type {\n",
              "        vertical-align: middle;\n",
              "    }\n",
              "\n",
              "    .dataframe tbody tr th {\n",
              "        vertical-align: top;\n",
              "    }\n",
              "\n",
              "    .dataframe thead th {\n",
              "        text-align: right;\n",
              "    }\n",
              "</style>\n",
              "<table border=\"1\" class=\"dataframe\">\n",
              "  <thead>\n",
              "    <tr style=\"text-align: right;\">\n",
              "      <th></th>\n",
              "      <th>PassengerId</th>\n",
              "      <th>Survived</th>\n",
              "      <th>Pclass</th>\n",
              "      <th>Name</th>\n",
              "      <th>Sex</th>\n",
              "      <th>Age</th>\n",
              "      <th>SibSp</th>\n",
              "      <th>Parch</th>\n",
              "      <th>Ticket</th>\n",
              "      <th>Fare</th>\n",
              "      <th>Cabin</th>\n",
              "      <th>Embarked</th>\n",
              "    </tr>\n",
              "  </thead>\n",
              "  <tbody>\n",
              "    <tr>\n",
              "      <th>0</th>\n",
              "      <td>1</td>\n",
              "      <td>0</td>\n",
              "      <td>3</td>\n",
              "      <td>Braund, Mr. Owen Harris</td>\n",
              "      <td>male</td>\n",
              "      <td>22.0</td>\n",
              "      <td>1</td>\n",
              "      <td>0</td>\n",
              "      <td>A/5 21171</td>\n",
              "      <td>7.2500</td>\n",
              "      <td>NaN</td>\n",
              "      <td>S</td>\n",
              "    </tr>\n",
              "    <tr>\n",
              "      <th>1</th>\n",
              "      <td>2</td>\n",
              "      <td>1</td>\n",
              "      <td>1</td>\n",
              "      <td>Cumings, Mrs. John Bradley (Florence Briggs Th...</td>\n",
              "      <td>female</td>\n",
              "      <td>38.0</td>\n",
              "      <td>1</td>\n",
              "      <td>0</td>\n",
              "      <td>PC 17599</td>\n",
              "      <td>71.2833</td>\n",
              "      <td>C85</td>\n",
              "      <td>C</td>\n",
              "    </tr>\n",
              "    <tr>\n",
              "      <th>2</th>\n",
              "      <td>3</td>\n",
              "      <td>1</td>\n",
              "      <td>3</td>\n",
              "      <td>Heikkinen, Miss. Laina</td>\n",
              "      <td>female</td>\n",
              "      <td>26.0</td>\n",
              "      <td>0</td>\n",
              "      <td>0</td>\n",
              "      <td>STON/O2. 3101282</td>\n",
              "      <td>7.9250</td>\n",
              "      <td>NaN</td>\n",
              "      <td>S</td>\n",
              "    </tr>\n",
              "    <tr>\n",
              "      <th>3</th>\n",
              "      <td>4</td>\n",
              "      <td>1</td>\n",
              "      <td>1</td>\n",
              "      <td>Futrelle, Mrs. Jacques Heath (Lily May Peel)</td>\n",
              "      <td>female</td>\n",
              "      <td>35.0</td>\n",
              "      <td>1</td>\n",
              "      <td>0</td>\n",
              "      <td>113803</td>\n",
              "      <td>53.1000</td>\n",
              "      <td>C123</td>\n",
              "      <td>S</td>\n",
              "    </tr>\n",
              "    <tr>\n",
              "      <th>4</th>\n",
              "      <td>5</td>\n",
              "      <td>0</td>\n",
              "      <td>3</td>\n",
              "      <td>Allen, Mr. William Henry</td>\n",
              "      <td>male</td>\n",
              "      <td>35.0</td>\n",
              "      <td>0</td>\n",
              "      <td>0</td>\n",
              "      <td>373450</td>\n",
              "      <td>8.0500</td>\n",
              "      <td>NaN</td>\n",
              "      <td>S</td>\n",
              "    </tr>\n",
              "    <tr>\n",
              "      <th>5</th>\n",
              "      <td>6</td>\n",
              "      <td>0</td>\n",
              "      <td>3</td>\n",
              "      <td>Moran, Mr. James</td>\n",
              "      <td>male</td>\n",
              "      <td>NaN</td>\n",
              "      <td>0</td>\n",
              "      <td>0</td>\n",
              "      <td>330877</td>\n",
              "      <td>8.4583</td>\n",
              "      <td>NaN</td>\n",
              "      <td>Q</td>\n",
              "    </tr>\n",
              "    <tr>\n",
              "      <th>6</th>\n",
              "      <td>7</td>\n",
              "      <td>0</td>\n",
              "      <td>1</td>\n",
              "      <td>McCarthy, Mr. Timothy J</td>\n",
              "      <td>male</td>\n",
              "      <td>54.0</td>\n",
              "      <td>0</td>\n",
              "      <td>0</td>\n",
              "      <td>17463</td>\n",
              "      <td>51.8625</td>\n",
              "      <td>E46</td>\n",
              "      <td>S</td>\n",
              "    </tr>\n",
              "    <tr>\n",
              "      <th>7</th>\n",
              "      <td>8</td>\n",
              "      <td>0</td>\n",
              "      <td>3</td>\n",
              "      <td>Palsson, Master. Gosta Leonard</td>\n",
              "      <td>male</td>\n",
              "      <td>2.0</td>\n",
              "      <td>3</td>\n",
              "      <td>1</td>\n",
              "      <td>349909</td>\n",
              "      <td>21.0750</td>\n",
              "      <td>NaN</td>\n",
              "      <td>S</td>\n",
              "    </tr>\n",
              "    <tr>\n",
              "      <th>8</th>\n",
              "      <td>9</td>\n",
              "      <td>1</td>\n",
              "      <td>3</td>\n",
              "      <td>Johnson, Mrs. Oscar W (Elisabeth Vilhelmina Berg)</td>\n",
              "      <td>female</td>\n",
              "      <td>27.0</td>\n",
              "      <td>0</td>\n",
              "      <td>2</td>\n",
              "      <td>347742</td>\n",
              "      <td>11.1333</td>\n",
              "      <td>NaN</td>\n",
              "      <td>S</td>\n",
              "    </tr>\n",
              "    <tr>\n",
              "      <th>9</th>\n",
              "      <td>10</td>\n",
              "      <td>1</td>\n",
              "      <td>2</td>\n",
              "      <td>Nasser, Mrs. Nicholas (Adele Achem)</td>\n",
              "      <td>female</td>\n",
              "      <td>14.0</td>\n",
              "      <td>1</td>\n",
              "      <td>0</td>\n",
              "      <td>237736</td>\n",
              "      <td>30.0708</td>\n",
              "      <td>NaN</td>\n",
              "      <td>C</td>\n",
              "    </tr>\n",
              "  </tbody>\n",
              "</table>\n",
              "</div>"
            ],
            "text/plain": [
              "   PassengerId  Survived  Pclass  ...     Fare Cabin  Embarked\n",
              "0            1         0       3  ...   7.2500   NaN         S\n",
              "1            2         1       1  ...  71.2833   C85         C\n",
              "2            3         1       3  ...   7.9250   NaN         S\n",
              "3            4         1       1  ...  53.1000  C123         S\n",
              "4            5         0       3  ...   8.0500   NaN         S\n",
              "5            6         0       3  ...   8.4583   NaN         Q\n",
              "6            7         0       1  ...  51.8625   E46         S\n",
              "7            8         0       3  ...  21.0750   NaN         S\n",
              "8            9         1       3  ...  11.1333   NaN         S\n",
              "9           10         1       2  ...  30.0708   NaN         C\n",
              "\n",
              "[10 rows x 12 columns]"
            ]
          },
          "metadata": {
            "tags": []
          },
          "execution_count": 157
        }
      ]
    },
    {
      "cell_type": "code",
      "metadata": {
        "colab": {
          "base_uri": "https://localhost:8080/"
        },
        "id": "hssqBqHYDyRv",
        "outputId": "406ea1aa-a724-43c3-9de0-19fd35afd419"
      },
      "source": [
        "# 2- Explore data to understandthem and to find missing data\r\n",
        "titanic_df.info() # missing values in \"Age\", \"Cabin\", and \"Embarked\""
      ],
      "execution_count": 158,
      "outputs": [
        {
          "output_type": "stream",
          "text": [
            "<class 'pandas.core.frame.DataFrame'>\n",
            "RangeIndex: 891 entries, 0 to 890\n",
            "Data columns (total 12 columns):\n",
            " #   Column       Non-Null Count  Dtype  \n",
            "---  ------       --------------  -----  \n",
            " 0   PassengerId  891 non-null    int64  \n",
            " 1   Survived     891 non-null    int64  \n",
            " 2   Pclass       891 non-null    int64  \n",
            " 3   Name         891 non-null    object \n",
            " 4   Sex          891 non-null    object \n",
            " 5   Age          714 non-null    float64\n",
            " 6   SibSp        891 non-null    int64  \n",
            " 7   Parch        891 non-null    int64  \n",
            " 8   Ticket       891 non-null    object \n",
            " 9   Fare         891 non-null    float64\n",
            " 10  Cabin        204 non-null    object \n",
            " 11  Embarked     889 non-null    object \n",
            "dtypes: float64(2), int64(5), object(5)\n",
            "memory usage: 83.7+ KB\n"
          ],
          "name": "stdout"
        }
      ]
    },
    {
      "cell_type": "code",
      "metadata": {
        "colab": {
          "base_uri": "https://localhost:8080/"
        },
        "id": "71CA-fNaFKZL",
        "outputId": "cb251088-868f-4f19-9b2e-0b93c7c00fad"
      },
      "source": [
        "# 3- Add a new column called “FamilySize”that is equal to (“SibSp”–“Parch”)\r\n",
        "titanic_df[\"FamilySize\"] = titanic_df[\"SibSp\"] - titanic_df[\"Parch\"]\r\n",
        "print(titanic_df.head())\r\n",
        "print(titanic_df.tail())"
      ],
      "execution_count": 159,
      "outputs": [
        {
          "output_type": "stream",
          "text": [
            "   PassengerId  Survived  Pclass  ... Cabin Embarked  FamilySize\n",
            "0            1         0       3  ...   NaN        S           1\n",
            "1            2         1       1  ...   C85        C           1\n",
            "2            3         1       3  ...   NaN        S           0\n",
            "3            4         1       1  ...  C123        S           1\n",
            "4            5         0       3  ...   NaN        S           0\n",
            "\n",
            "[5 rows x 13 columns]\n",
            "     PassengerId  Survived  Pclass  ... Cabin Embarked  FamilySize\n",
            "886          887         0       2  ...   NaN        S           0\n",
            "887          888         1       1  ...   B42        S           0\n",
            "888          889         0       3  ...   NaN        S          -1\n",
            "889          890         1       1  ...  C148        C           0\n",
            "890          891         0       3  ...   NaN        Q           0\n",
            "\n",
            "[5 rows x 13 columns]\n"
          ],
          "name": "stdout"
        }
      ]
    },
    {
      "cell_type": "code",
      "metadata": {
        "colab": {
          "base_uri": "https://localhost:8080/",
          "height": 197
        },
        "id": "KAneJG4ZF6_H",
        "outputId": "dc5be113-00e7-4ce7-c6d4-62ee8197f668"
      },
      "source": [
        "# 4-Remove unwanted columns ('Cabin','Name','Ticket', ‘SibSp’, ‘Parch’)\r\n",
        "# code will remove unwanted columns and return a new variable \"titanic_df_condense with the minimal columns required\"\r\n",
        "col_to_drop = ['Cabin','Name','Ticket', 'SibSp', 'Parch']\r\n",
        "titanic_df_condense = titanic_df.drop(col_to_drop, axis='columns', inplace=False)\r\n",
        "titanic_df_condense.head()"
      ],
      "execution_count": 160,
      "outputs": [
        {
          "output_type": "execute_result",
          "data": {
            "text/html": [
              "<div>\n",
              "<style scoped>\n",
              "    .dataframe tbody tr th:only-of-type {\n",
              "        vertical-align: middle;\n",
              "    }\n",
              "\n",
              "    .dataframe tbody tr th {\n",
              "        vertical-align: top;\n",
              "    }\n",
              "\n",
              "    .dataframe thead th {\n",
              "        text-align: right;\n",
              "    }\n",
              "</style>\n",
              "<table border=\"1\" class=\"dataframe\">\n",
              "  <thead>\n",
              "    <tr style=\"text-align: right;\">\n",
              "      <th></th>\n",
              "      <th>PassengerId</th>\n",
              "      <th>Survived</th>\n",
              "      <th>Pclass</th>\n",
              "      <th>Sex</th>\n",
              "      <th>Age</th>\n",
              "      <th>Fare</th>\n",
              "      <th>Embarked</th>\n",
              "      <th>FamilySize</th>\n",
              "    </tr>\n",
              "  </thead>\n",
              "  <tbody>\n",
              "    <tr>\n",
              "      <th>0</th>\n",
              "      <td>1</td>\n",
              "      <td>0</td>\n",
              "      <td>3</td>\n",
              "      <td>male</td>\n",
              "      <td>22.0</td>\n",
              "      <td>7.2500</td>\n",
              "      <td>S</td>\n",
              "      <td>1</td>\n",
              "    </tr>\n",
              "    <tr>\n",
              "      <th>1</th>\n",
              "      <td>2</td>\n",
              "      <td>1</td>\n",
              "      <td>1</td>\n",
              "      <td>female</td>\n",
              "      <td>38.0</td>\n",
              "      <td>71.2833</td>\n",
              "      <td>C</td>\n",
              "      <td>1</td>\n",
              "    </tr>\n",
              "    <tr>\n",
              "      <th>2</th>\n",
              "      <td>3</td>\n",
              "      <td>1</td>\n",
              "      <td>3</td>\n",
              "      <td>female</td>\n",
              "      <td>26.0</td>\n",
              "      <td>7.9250</td>\n",
              "      <td>S</td>\n",
              "      <td>0</td>\n",
              "    </tr>\n",
              "    <tr>\n",
              "      <th>3</th>\n",
              "      <td>4</td>\n",
              "      <td>1</td>\n",
              "      <td>1</td>\n",
              "      <td>female</td>\n",
              "      <td>35.0</td>\n",
              "      <td>53.1000</td>\n",
              "      <td>S</td>\n",
              "      <td>1</td>\n",
              "    </tr>\n",
              "    <tr>\n",
              "      <th>4</th>\n",
              "      <td>5</td>\n",
              "      <td>0</td>\n",
              "      <td>3</td>\n",
              "      <td>male</td>\n",
              "      <td>35.0</td>\n",
              "      <td>8.0500</td>\n",
              "      <td>S</td>\n",
              "      <td>0</td>\n",
              "    </tr>\n",
              "  </tbody>\n",
              "</table>\n",
              "</div>"
            ],
            "text/plain": [
              "   PassengerId  Survived  Pclass     Sex   Age     Fare Embarked  FamilySize\n",
              "0            1         0       3    male  22.0   7.2500        S           1\n",
              "1            2         1       1  female  38.0  71.2833        C           1\n",
              "2            3         1       3  female  26.0   7.9250        S           0\n",
              "3            4         1       1  female  35.0  53.1000        S           1\n",
              "4            5         0       3    male  35.0   8.0500        S           0"
            ]
          },
          "metadata": {
            "tags": []
          },
          "execution_count": 160
        }
      ]
    },
    {
      "cell_type": "code",
      "metadata": {
        "colab": {
          "base_uri": "https://localhost:8080/"
        },
        "id": "_0g0ekgIhada",
        "outputId": "75fbbd82-4005-46e3-8d17-65e9e6a7a513"
      },
      "source": [
        "# 5-For missing ages replace them with the mean of ages for their own gender (Sex) and cabinclass (Pclass)\r\n",
        "# mean of all cabin class per sex\r\n",
        "titanic_df_mean = titanic_df_condense.groupby(['Sex', 'Pclass'])['Age'].mean().unstack().round(0)\r\n",
        "print(titanic_df_mean)\r\n",
        "\r\n",
        "# Replacing null values with their corresponding mean.\r\n",
        "titanic_df_condense.loc[titanic_df_condense.Age.isnull() & (titanic_df_condense.Sex == 'female') & (titanic_df_condense.Pclass == 1),'Age'] = titanic_df_mean.iloc[0,0]\r\n",
        "titanic_df_condense.loc[titanic_df_condense.Age.isnull() & (titanic_df_condense.Sex == 'female') & (titanic_df_condense.Pclass == 2),'Age'] = titanic_df_mean.iloc[0,1]\r\n",
        "titanic_df_condense.loc[titanic_df_condense.Age.isnull() & (titanic_df_condense.Sex == 'female') & (titanic_df_condense.Pclass == 3),'Age'] = titanic_df_mean.iloc[0,2]\r\n",
        "titanic_df_condense.loc[titanic_df_condense.Age.isnull() & (titanic_df_condense.Sex == 'male') & (titanic_df_condense.Pclass == 1),'Age'] = titanic_df_mean.iloc[1,0]\r\n",
        "titanic_df_condense.loc[titanic_df_condense.Age.isnull() & (titanic_df_condense.Sex == 'male') & (titanic_df_condense.Pclass == 2),'Age'] = titanic_df_mean.iloc[1,1]\r\n",
        "titanic_df_condense.loc[titanic_df_condense.Age.isnull() & (titanic_df_condense.Sex == 'male') & (titanic_df_condense.Pclass == 3),'Age'] = titanic_df_mean.iloc[1,2]\r\n",
        "\r\n",
        "# verify no null values\r\n",
        "titanic_df_condense.info()"
      ],
      "execution_count": 161,
      "outputs": [
        {
          "output_type": "stream",
          "text": [
            "Pclass     1     2     3\n",
            "Sex                     \n",
            "female  35.0  29.0  22.0\n",
            "male    41.0  31.0  27.0\n",
            "<class 'pandas.core.frame.DataFrame'>\n",
            "RangeIndex: 891 entries, 0 to 890\n",
            "Data columns (total 8 columns):\n",
            " #   Column       Non-Null Count  Dtype  \n",
            "---  ------       --------------  -----  \n",
            " 0   PassengerId  891 non-null    int64  \n",
            " 1   Survived     891 non-null    int64  \n",
            " 2   Pclass       891 non-null    int64  \n",
            " 3   Sex          891 non-null    object \n",
            " 4   Age          891 non-null    float64\n",
            " 5   Fare         891 non-null    float64\n",
            " 6   Embarked     889 non-null    object \n",
            " 7   FamilySize   891 non-null    int64  \n",
            "dtypes: float64(2), int64(4), object(2)\n",
            "memory usage: 55.8+ KB\n"
          ],
          "name": "stdout"
        }
      ]
    },
    {
      "cell_type": "code",
      "metadata": {
        "colab": {
          "base_uri": "https://localhost:8080/",
          "height": 658
        },
        "id": "a-Ug6or0aifE",
        "outputId": "07822f14-66c1-464a-86ba-1f376b8dc41e"
      },
      "source": [
        "# 6-For missing “Embarked” find your strategy (do some analysis and decide what value you put there)\r\n",
        "# Strategy: Graph below shows that 72% of embarkements happend in S=Southampton. therefore we can confidently assume that the missing value would have embarked from Southampton.\r\n",
        "titanic_df_condense.groupby(['Embarked', 'Pclass'])['Pclass'].count().unstack().plot.bar(figsize=(8, 6))\r\n",
        "# Replacing NAN with S=Southampton.\r\n",
        "titanic_df_condense[\"Embarked\"] = titanic_df_condense[\"Embarked\"].fillna(value='S')\r\n",
        "# Verify no null values\r\n",
        "titanic_df_condense.info()"
      ],
      "execution_count": 162,
      "outputs": [
        {
          "output_type": "stream",
          "text": [
            "<class 'pandas.core.frame.DataFrame'>\n",
            "RangeIndex: 891 entries, 0 to 890\n",
            "Data columns (total 8 columns):\n",
            " #   Column       Non-Null Count  Dtype  \n",
            "---  ------       --------------  -----  \n",
            " 0   PassengerId  891 non-null    int64  \n",
            " 1   Survived     891 non-null    int64  \n",
            " 2   Pclass       891 non-null    int64  \n",
            " 3   Sex          891 non-null    object \n",
            " 4   Age          891 non-null    float64\n",
            " 5   Fare         891 non-null    float64\n",
            " 6   Embarked     891 non-null    object \n",
            " 7   FamilySize   891 non-null    int64  \n",
            "dtypes: float64(2), int64(4), object(2)\n",
            "memory usage: 55.8+ KB\n"
          ],
          "name": "stdout"
        },
        {
          "output_type": "display_data",
          "data": {
            "image/png": "[encoded data removed]",
            "text/plain": [
              "<Figure size 576x432 with 1 Axes>"
            ]
          },
          "metadata": {
            "tags": []
          }
        }
      ]
    },
    {
      "cell_type": "code",
      "metadata": {
        "colab": {
          "base_uri": "https://localhost:8080/",
          "height": 197
        },
        "id": "2B5-hH0Fh7O5",
        "outputId": "f117490c-9c40-425a-8c64-07237d0915e0"
      },
      "source": [
        "# 7-Map “Embarked” and “Pclass” to more descriptive values:\r\n",
        "# create a dict of replacement labels\r\n",
        "desc_val_dict = {\r\n",
        "    'Emabarked':{'S':'Southampton','C':'Cherbourg','Q':'Queenstown'},\r\n",
        "    'Pclass':{1:'Upper Class',2:'Middle Class',3:'Lower Class'}\r\n",
        "                 }\r\n",
        "\r\n",
        "# apply replacement labels using pd.replace function.\r\n",
        "titanic_df_condense.replace(to_replace = desc_val_dict, value=None, inplace=True)\r\n",
        "\r\n",
        "#Verify replacement\r\n",
        "titanic_df_condense.head()"
      ],
      "execution_count": 163,
      "outputs": [
        {
          "output_type": "execute_result",
          "data": {
            "text/html": [
              "<div>\n",
              "<style scoped>\n",
              "    .dataframe tbody tr th:only-of-type {\n",
              "        vertical-align: middle;\n",
              "    }\n",
              "\n",
              "    .dataframe tbody tr th {\n",
              "        vertical-align: top;\n",
              "    }\n",
              "\n",
              "    .dataframe thead th {\n",
              "        text-align: right;\n",
              "    }\n",
              "</style>\n",
              "<table border=\"1\" class=\"dataframe\">\n",
              "  <thead>\n",
              "    <tr style=\"text-align: right;\">\n",
              "      <th></th>\n",
              "      <th>PassengerId</th>\n",
              "      <th>Survived</th>\n",
              "      <th>Pclass</th>\n",
              "      <th>Sex</th>\n",
              "      <th>Age</th>\n",
              "      <th>Fare</th>\n",
              "      <th>Embarked</th>\n",
              "      <th>FamilySize</th>\n",
              "    </tr>\n",
              "  </thead>\n",
              "  <tbody>\n",
              "    <tr>\n",
              "      <th>0</th>\n",
              "      <td>1</td>\n",
              "      <td>0</td>\n",
              "      <td>Lower Class</td>\n",
              "      <td>male</td>\n",
              "      <td>22.0</td>\n",
              "      <td>7.2500</td>\n",
              "      <td>S</td>\n",
              "      <td>1</td>\n",
              "    </tr>\n",
              "    <tr>\n",
              "      <th>1</th>\n",
              "      <td>2</td>\n",
              "      <td>1</td>\n",
              "      <td>Upper Class</td>\n",
              "      <td>female</td>\n",
              "      <td>38.0</td>\n",
              "      <td>71.2833</td>\n",
              "      <td>C</td>\n",
              "      <td>1</td>\n",
              "    </tr>\n",
              "    <tr>\n",
              "      <th>2</th>\n",
              "      <td>3</td>\n",
              "      <td>1</td>\n",
              "      <td>Lower Class</td>\n",
              "      <td>female</td>\n",
              "      <td>26.0</td>\n",
              "      <td>7.9250</td>\n",
              "      <td>S</td>\n",
              "      <td>0</td>\n",
              "    </tr>\n",
              "    <tr>\n",
              "      <th>3</th>\n",
              "      <td>4</td>\n",
              "      <td>1</td>\n",
              "      <td>Upper Class</td>\n",
              "      <td>female</td>\n",
              "      <td>35.0</td>\n",
              "      <td>53.1000</td>\n",
              "      <td>S</td>\n",
              "      <td>1</td>\n",
              "    </tr>\n",
              "    <tr>\n",
              "      <th>4</th>\n",
              "      <td>5</td>\n",
              "      <td>0</td>\n",
              "      <td>Lower Class</td>\n",
              "      <td>male</td>\n",
              "      <td>35.0</td>\n",
              "      <td>8.0500</td>\n",
              "      <td>S</td>\n",
              "      <td>0</td>\n",
              "    </tr>\n",
              "  </tbody>\n",
              "</table>\n",
              "</div>"
            ],
            "text/plain": [
              "   PassengerId  Survived       Pclass  ...     Fare  Embarked  FamilySize\n",
              "0            1         0  Lower Class  ...   7.2500         S           1\n",
              "1            2         1  Upper Class  ...  71.2833         C           1\n",
              "2            3         1  Lower Class  ...   7.9250         S           0\n",
              "3            4         1  Upper Class  ...  53.1000         S           1\n",
              "4            5         0  Lower Class  ...   8.0500         S           0\n",
              "\n",
              "[5 rows x 8 columns]"
            ]
          },
          "metadata": {
            "tags": []
          },
          "execution_count": 163
        }
      ]
    },
    {
      "cell_type": "code",
      "metadata": {
        "colab": {
          "base_uri": "https://localhost:8080/",
          "height": 197
        },
        "id": "SZnStRBlla4b",
        "outputId": "85da01fa-9555-49ca-dc47-436d9fffc91c"
      },
      "source": [
        "# 8-Create a column named “AgeGroup” that groups the passengers in the following groups: ['0-9','10-19','20-29','30-39','40-49','50-59','60-69','70-79']. Tip: you can use “pandas’cut”function.\r\n",
        "# create a list of age group.\r\n",
        "age_grp_labels = ['0-9','10-19','20-29','30-39','40-49','50-59','60-69','70-79']\r\n",
        "#created a new column AgeGroup using pd.cut function with 8 bins and the labels from age_grp_labels list.\r\n",
        "titanic_df_condense['AgeGroup'] = pd.cut(x=titanic_df_condense[\"Age\"], bins=8, labels=age_grp_labels)\r\n",
        "#Verify AgeGroup column\r\n",
        "titanic_df_condense.head()\r\n"
      ],
      "execution_count": 164,
      "outputs": [
        {
          "output_type": "execute_result",
          "data": {
            "text/html": [
              "<div>\n",
              "<style scoped>\n",
              "    .dataframe tbody tr th:only-of-type {\n",
              "        vertical-align: middle;\n",
              "    }\n",
              "\n",
              "    .dataframe tbody tr th {\n",
              "        vertical-align: top;\n",
              "    }\n",
              "\n",
              "    .dataframe thead th {\n",
              "        text-align: right;\n",
              "    }\n",
              "</style>\n",
              "<table border=\"1\" class=\"dataframe\">\n",
              "  <thead>\n",
              "    <tr style=\"text-align: right;\">\n",
              "      <th></th>\n",
              "      <th>PassengerId</th>\n",
              "      <th>Survived</th>\n",
              "      <th>Pclass</th>\n",
              "      <th>Sex</th>\n",
              "      <th>Age</th>\n",
              "      <th>Fare</th>\n",
              "      <th>Embarked</th>\n",
              "      <th>FamilySize</th>\n",
              "      <th>AgeGroup</th>\n",
              "    </tr>\n",
              "  </thead>\n",
              "  <tbody>\n",
              "    <tr>\n",
              "      <th>0</th>\n",
              "      <td>1</td>\n",
              "      <td>0</td>\n",
              "      <td>Lower Class</td>\n",
              "      <td>male</td>\n",
              "      <td>22.0</td>\n",
              "      <td>7.2500</td>\n",
              "      <td>S</td>\n",
              "      <td>1</td>\n",
              "      <td>20-29</td>\n",
              "    </tr>\n",
              "    <tr>\n",
              "      <th>1</th>\n",
              "      <td>2</td>\n",
              "      <td>1</td>\n",
              "      <td>Upper Class</td>\n",
              "      <td>female</td>\n",
              "      <td>38.0</td>\n",
              "      <td>71.2833</td>\n",
              "      <td>C</td>\n",
              "      <td>1</td>\n",
              "      <td>30-39</td>\n",
              "    </tr>\n",
              "    <tr>\n",
              "      <th>2</th>\n",
              "      <td>3</td>\n",
              "      <td>1</td>\n",
              "      <td>Lower Class</td>\n",
              "      <td>female</td>\n",
              "      <td>26.0</td>\n",
              "      <td>7.9250</td>\n",
              "      <td>S</td>\n",
              "      <td>0</td>\n",
              "      <td>20-29</td>\n",
              "    </tr>\n",
              "    <tr>\n",
              "      <th>3</th>\n",
              "      <td>4</td>\n",
              "      <td>1</td>\n",
              "      <td>Upper Class</td>\n",
              "      <td>female</td>\n",
              "      <td>35.0</td>\n",
              "      <td>53.1000</td>\n",
              "      <td>S</td>\n",
              "      <td>1</td>\n",
              "      <td>30-39</td>\n",
              "    </tr>\n",
              "    <tr>\n",
              "      <th>4</th>\n",
              "      <td>5</td>\n",
              "      <td>0</td>\n",
              "      <td>Lower Class</td>\n",
              "      <td>male</td>\n",
              "      <td>35.0</td>\n",
              "      <td>8.0500</td>\n",
              "      <td>S</td>\n",
              "      <td>0</td>\n",
              "      <td>30-39</td>\n",
              "    </tr>\n",
              "  </tbody>\n",
              "</table>\n",
              "</div>"
            ],
            "text/plain": [
              "   PassengerId  Survived       Pclass  ... Embarked  FamilySize  AgeGroup\n",
              "0            1         0  Lower Class  ...        S           1     20-29\n",
              "1            2         1  Upper Class  ...        C           1     30-39\n",
              "2            3         1  Lower Class  ...        S           0     20-29\n",
              "3            4         1  Upper Class  ...        S           1     30-39\n",
              "4            5         0  Lower Class  ...        S           0     30-39\n",
              "\n",
              "[5 rows x 9 columns]"
            ]
          },
          "metadata": {
            "tags": []
          },
          "execution_count": 164
        }
      ]
    },
    {
      "cell_type": "code",
      "metadata": {
        "colab": {
          "base_uri": "https://localhost:8080/",
          "height": 137
        },
        "id": "enUu90UbqlrG",
        "outputId": "7c67f671-7227-499a-bfcf-ab54a901fc58"
      },
      "source": [
        "# 9-Show the number of survivors and non-survivors using “groupby”\r\n",
        "titanic_df_condense.groupby(['Sex', 'Survived'] )['Survived'].count().unstack(1)"
      ],
      "execution_count": 165,
      "outputs": [
        {
          "output_type": "execute_result",
          "data": {
            "text/html": [
              "<div>\n",
              "<style scoped>\n",
              "    .dataframe tbody tr th:only-of-type {\n",
              "        vertical-align: middle;\n",
              "    }\n",
              "\n",
              "    .dataframe tbody tr th {\n",
              "        vertical-align: top;\n",
              "    }\n",
              "\n",
              "    .dataframe thead th {\n",
              "        text-align: right;\n",
              "    }\n",
              "</style>\n",
              "<table border=\"1\" class=\"dataframe\">\n",
              "  <thead>\n",
              "    <tr style=\"text-align: right;\">\n",
              "      <th>Survived</th>\n",
              "      <th>0</th>\n",
              "      <th>1</th>\n",
              "    </tr>\n",
              "    <tr>\n",
              "      <th>Sex</th>\n",
              "      <th></th>\n",
              "      <th></th>\n",
              "    </tr>\n",
              "  </thead>\n",
              "  <tbody>\n",
              "    <tr>\n",
              "      <th>female</th>\n",
              "      <td>81</td>\n",
              "      <td>233</td>\n",
              "    </tr>\n",
              "    <tr>\n",
              "      <th>male</th>\n",
              "      <td>468</td>\n",
              "      <td>109</td>\n",
              "    </tr>\n",
              "  </tbody>\n",
              "</table>\n",
              "</div>"
            ],
            "text/plain": [
              "Survived    0    1\n",
              "Sex               \n",
              "female     81  233\n",
              "male      468  109"
            ]
          },
          "metadata": {
            "tags": []
          },
          "execution_count": 165
        }
      ]
    },
    {
      "cell_type": "code",
      "metadata": {
        "colab": {
          "base_uri": "https://localhost:8080/",
          "height": 137
        },
        "id": "qOuE2mE7qsE7",
        "outputId": "b0b6293e-2ca4-498f-e5db-0b608530be3e"
      },
      "source": [
        "# 10-Create a crosstab table to show survivors and non-survivors for each gender. Tip:use “pandas’crosstab”function\r\n",
        "# create an nd.array for values in sex and surviced columns, will make it easier to input data for later use.\r\n",
        "arr_sex = titanic_df_condense['Sex'].to_numpy()\r\n",
        "arr_survived = titanic_df_condense['Survived'].to_numpy()\r\n",
        "# used pd.crosstab to show number of survivers by sex.\r\n",
        "pd.crosstab(arr_sex, arr_survived, rownames=['arr_sex'], colnames=['arr_survived'])"
      ],
      "execution_count": 166,
      "outputs": [
        {
          "output_type": "execute_result",
          "data": {
            "text/html": [
              "<div>\n",
              "<style scoped>\n",
              "    .dataframe tbody tr th:only-of-type {\n",
              "        vertical-align: middle;\n",
              "    }\n",
              "\n",
              "    .dataframe tbody tr th {\n",
              "        vertical-align: top;\n",
              "    }\n",
              "\n",
              "    .dataframe thead th {\n",
              "        text-align: right;\n",
              "    }\n",
              "</style>\n",
              "<table border=\"1\" class=\"dataframe\">\n",
              "  <thead>\n",
              "    <tr style=\"text-align: right;\">\n",
              "      <th>arr_survived</th>\n",
              "      <th>0</th>\n",
              "      <th>1</th>\n",
              "    </tr>\n",
              "    <tr>\n",
              "      <th>arr_sex</th>\n",
              "      <th></th>\n",
              "      <th></th>\n",
              "    </tr>\n",
              "  </thead>\n",
              "  <tbody>\n",
              "    <tr>\n",
              "      <th>female</th>\n",
              "      <td>81</td>\n",
              "      <td>233</td>\n",
              "    </tr>\n",
              "    <tr>\n",
              "      <th>male</th>\n",
              "      <td>468</td>\n",
              "      <td>109</td>\n",
              "    </tr>\n",
              "  </tbody>\n",
              "</table>\n",
              "</div>"
            ],
            "text/plain": [
              "arr_survived    0    1\n",
              "arr_sex               \n",
              "female         81  233\n",
              "male          468  109"
            ]
          },
          "metadata": {
            "tags": []
          },
          "execution_count": 166
        }
      ]
    },
    {
      "cell_type": "code",
      "metadata": {
        "colab": {
          "base_uri": "https://localhost:8080/"
        },
        "id": "vWuO87UhvEs7",
        "outputId": "19a369ed-9786-4a2d-cdcc-0787a4d34e0d"
      },
      "source": [
        "# 11-Show the survived proportion (mean) by gender (using groupby)\r\n",
        "titanic_df_condense.groupby('Sex')['Survived'].mean().round(4)"
      ],
      "execution_count": 167,
      "outputs": [
        {
          "output_type": "execute_result",
          "data": {
            "text/plain": [
              "Sex\n",
              "female    0.7420\n",
              "male      0.1889\n",
              "Name: Survived, dtype: float64"
            ]
          },
          "metadata": {
            "tags": []
          },
          "execution_count": 167
        }
      ]
    },
    {
      "cell_type": "code",
      "metadata": {
        "colab": {
          "base_uri": "https://localhost:8080/",
          "height": 564
        },
        "id": "n-h6up-cvWNs",
        "outputId": "d4cfeb79-7a98-4c07-e401-00dc0296f14a"
      },
      "source": [
        "# 12-Plot the results:\r\n",
        "# create subplot to hold two graphs.\r\n",
        "fig, (ax1, ax2) = plt.subplots(1,2, figsize=(10, 8))\r\n",
        "# plot count of survivors by gender\r\n",
        "titanic_df_condense.groupby(['Sex', 'Survived'] )['Survived'].count().unstack(1).plot.bar(ax=ax1, stacked=True, )\r\n",
        "\r\n",
        "# need to calculate the percentage of passagers that survived base of sex.\r\n",
        "pct_survived = titanic_df_condense.groupby('Sex')['Survived'].mean().round(4) * 100\r\n",
        "pct_non_survived = (titanic_df_condense.groupby('Sex')['Survived'].mean().round(4).rename('Non-Survived') * 100 - 100) * -1\r\n",
        "pct_df = pd.concat([pct_survived, pct_non_survived], axis=1)\r\n",
        "\r\n",
        "# plot % of survivors by gender.\r\n",
        "pct_df.plot.bar(ax=ax2, stacked=True, legend=False)\r\n",
        "\r\n",
        "# titles and axis labels.\r\n",
        "ax1.set_title('Count of survivors by gender')\r\n",
        "ax1.set_ylabel('Count')\r\n",
        "ax1.legend(['Survived', 'Non-Survived'])\r\n",
        "ax2.set_title('% of survivors by gender')\r\n",
        "ax2.set_ylabel('Percentage')\r\n"
      ],
      "execution_count": 168,
      "outputs": [
        {
          "output_type": "execute_result",
          "data": {
            "text/plain": [
              "Text(0, 0.5, 'Percentage')"
            ]
          },
          "metadata": {
            "tags": []
          },
          "execution_count": 168
        },
        {
          "output_type": "display_data",
          "data": {
            "image/png": "[encoded data removed]",
            "text/plain": [
              "<Figure size 720x576 with 2 Axes>"
            ]
          },
          "metadata": {
            "tags": []
          }
        }
      ]
    },
    {
      "cell_type": "code",
      "metadata": {
        "colab": {
          "base_uri": "https://localhost:8080/",
          "height": 594
        },
        "id": "BNM1wGFlzxqs",
        "outputId": "1b64227c-6434-4a8c-ec6c-bf0988630edf"
      },
      "source": [
        "# 13-Repeat the steps 10-12 for cabin class (Pclass)\r\n",
        "arr_pclass = titanic_df_condense['Pclass'].to_numpy()\r\n",
        "pd.crosstab(arr_pclass, arr_survived, rownames=['arr_pclass'], colnames=['arr_survived'])\r\n",
        "\r\n",
        "# mean of pclass and survived using groupby.\r\n",
        "titanic_df_condense.groupby('Pclass')['Survived'].mean().round(4)\r\n",
        "\r\n",
        "# plotted results for Pclass and survived\r\n",
        "fig, (ax1, ax2) = plt.subplots(1,2, figsize=(10, 8))\r\n",
        "titanic_df_condense.groupby(['Pclass', 'Survived'] )['Survived'].count().unstack(1).plot.bar(ax=ax1, stacked=True, )\r\n",
        "\r\n",
        "pct_survived = titanic_df_condense.groupby('Pclass')['Survived'].mean().round(4) * 100\r\n",
        "pct_non_survived = (titanic_df_condense.groupby('Pclass')['Survived'].mean().round(4).rename('Non-Survived') * 100 - 100) * -1\r\n",
        "pct_df = pd.concat([pct_survived, pct_non_survived], axis=1)\r\n",
        "pct_df.plot.bar(ax=ax2, stacked=True, legend=False)\r\n",
        "\r\n",
        "ax1.set_title('Count of survivors by Cabin class')\r\n",
        "ax1.set_ylabel('Count')\r\n",
        "ax1.legend(['Survived', 'Non-Survived'])\r\n",
        "ax2.set_title('% of survivors by cabin class')\r\n",
        "ax2.set_ylabel('Percentage')"
      ],
      "execution_count": 169,
      "outputs": [
        {
          "output_type": "execute_result",
          "data": {
            "text/plain": [
              "Text(0, 0.5, 'Percentage')"
            ]
          },
          "metadata": {
            "tags": []
          },
          "execution_count": 169
        },
        {
          "output_type": "display_data",
          "data": {
            "image/png": "[encoded data removed]",
            "text/plain": [
              "<Figure size 720x576 with 2 Axes>"
            ]
          },
          "metadata": {
            "tags": []
          }
        }
      ]
    },
    {
      "cell_type": "code",
      "metadata": {
        "colab": {
          "base_uri": "https://localhost:8080/",
          "height": 557
        },
        "id": "DjuTMbDsz0Tn",
        "outputId": "74a7d2f5-abde-4bdf-cea6-ff67a592767f"
      },
      "source": [
        "# 14-Repeat the steps 10-12 for age group (AgeGroup)\r\n",
        "arr_age_group = titanic_df_condense['AgeGroup'].to_numpy()\r\n",
        "pd.crosstab(arr_age_group, arr_survived, rownames=['arr_age_group'], colnames=['arr_survived'])\r\n",
        "\r\n",
        "# mean of pclass and survived using groupby.\r\n",
        "titanic_df_condense.groupby('AgeGroup')['Survived'].mean().round(4)\r\n",
        "\r\n",
        "# plotted results for Pclass and survived\r\n",
        "fig, (ax1, ax2) = plt.subplots(1,2, figsize=(10, 8))\r\n",
        "titanic_df_condense.groupby(['AgeGroup', 'Survived'] )['Survived'].count().unstack(1).plot.bar(ax=ax1, stacked=True, )\r\n",
        "\r\n",
        "pct_survived = titanic_df_condense.groupby('AgeGroup')['Survived'].mean().round(4) * 100\r\n",
        "pct_non_survived = (titanic_df_condense.groupby('AgeGroup')['Survived'].mean().round(4).rename('Non-Survived') * 100 - 100) * -1\r\n",
        "pct_df = pd.concat([pct_survived, pct_non_survived], axis=1)\r\n",
        "pct_df.plot.bar(ax=ax2, stacked=True, legend=False)\r\n",
        "\r\n",
        "ax1.set_title('Count of survivors by Age Group')\r\n",
        "ax1.set_ylabel('Count')\r\n",
        "ax1.legend(['Survived', 'Non-Survived'])\r\n",
        "ax2.set_title('% of survivors by age group')\r\n",
        "ax2.set_ylabel('Percentage')"
      ],
      "execution_count": 170,
      "outputs": [
        {
          "output_type": "execute_result",
          "data": {
            "text/plain": [
              "Text(0, 0.5, 'Percentage')"
            ]
          },
          "metadata": {
            "tags": []
          },
          "execution_count": 170
        },
        {
          "output_type": "display_data",
          "data": {
            "image/png": "[encoded data removed]",
            "text/plain": [
              "<Figure size 720x576 with 2 Axes>"
            ]
          },
          "metadata": {
            "tags": []
          }
        }
      ]
    },
    {
      "cell_type": "code",
      "metadata": {
        "colab": {
          "base_uri": "https://localhost:8080/",
          "height": 520
        },
        "id": "6RReXzBkz0nl",
        "outputId": "9a42ae31-933b-401b-ab0b-1df7f174ff71"
      },
      "source": [
        "# 15-Plot a “boxplot” of age versus gender\r\n",
        "sex_vs_age_df = titanic_df_condense[['Age','Sex']]\r\n",
        "fig, ax = plt.subplots()\r\n",
        "fig.set_size_inches(10,8)\r\n",
        "sns.boxplot(y='Age', x='Sex', data=sex_vs_age_df, palette=\"Set2\", width=.5, fliersize=5, linewidth=2.5 )\r\n"
      ],
      "execution_count": 171,
      "outputs": [
        {
          "output_type": "execute_result",
          "data": {
            "text/plain": [
              "<matplotlib.axes._subplots.AxesSubplot at 0x7f8cd3af5390>"
            ]
          },
          "metadata": {
            "tags": []
          },
          "execution_count": 171
        },
        {
          "output_type": "display_data",
          "data": {
            "image/png": "[encoded data removed]",
            "text/plain": [
              "<Figure size 720x576 with 1 Axes>"
            ]
          },
          "metadata": {
            "tags": []
          }
        }
      ]
    }
  ]
}
